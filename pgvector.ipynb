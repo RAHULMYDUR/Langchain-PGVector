{
 "cells": [
  {
   "cell_type": "code",
   "execution_count": 39,
   "metadata": {},
   "outputs": [],
   "source": [
    "import os\n",
    "import tensorflow_hub as hub\n",
    "import numpy as np\n",
    "from langchain_postgres import PGVector\n",
    "from langchain_core.documents import Document"
   ]
  },
  {
   "cell_type": "code",
   "execution_count": 17,
   "metadata": {},
   "outputs": [
    {
     "name": "stdout",
     "output_type": "stream",
     "text": [
      "Loading embedding model...\n",
      "Embedding model loaded successfully.\n",
      "Embedding model initialization complete.\n"
     ]
    }
   ],
   "source": [
    "# Initialize Embedding Model\n",
    "class EmbeddingModel:\n",
    "    def __init__(self, model_url=\"https://tfhub.dev/google/universal-sentence-encoder/4\"):\n",
    "        \"\"\"\n",
    "        Initialize the embedding model with the given model URL.\n",
    "        \"\"\"\n",
    "        print(\"Loading embedding model...\")\n",
    "        self.model = hub.load(model_url)\n",
    "        print(\"Embedding model loaded successfully.\")\n",
    "\n",
    "    def embed_query(self, query, **kwargs):\n",
    "        \"\"\"\n",
    "        Generate embedding for a single query (string).\n",
    "        \"\"\"\n",
    "        return self.model([query]).numpy()[0]\n",
    "\n",
    "    def embed_documents(self, documents):\n",
    "        \"\"\"\n",
    "        Generate embeddings for a list of documents (strings).\n",
    "        \"\"\"\n",
    "        return self.model(documents).numpy()\n",
    "\n",
    "# Initialize the embedding model\n",
    "embeddings = EmbeddingModel()\n",
    "print(\"Embedding model initialization complete.\")"
   ]
  },
  {
   "cell_type": "code",
   "execution_count": 18,
   "metadata": {},
   "outputs": [
    {
     "name": "stdout",
     "output_type": "stream",
     "text": [
      "Connection string and collection name defined.\n"
     ]
    }
   ],
   "source": [
    "# Define PostgreSQL Connection String\n",
    "conn_string = \"Paste your PostgreSQL connection string here\"\n",
    "collection_name = \"example_documents\"\n",
    "print(\"Connection string and collection name defined.\")"
   ]
  },
  {
   "cell_type": "code",
   "execution_count": 19,
   "metadata": {},
   "outputs": [
    {
     "name": "stdout",
     "output_type": "stream",
     "text": [
      "PGVector vector store initialized.\n"
     ]
    }
   ],
   "source": [
    "# Initialize PGVector vector store\n",
    "vector_store = PGVector(\n",
    "    embeddings=embeddings,\n",
    "    collection_name=collection_name,\n",
    "    connection=conn_string,\n",
    "    use_jsonb=True,\n",
    ")\n",
    "print(\"PGVector vector store initialized.\")"
   ]
  },
  {
   "cell_type": "code",
   "execution_count": 20,
   "metadata": {},
   "outputs": [
    {
     "name": "stdout",
     "output_type": "stream",
     "text": [
      "Documents defined for addition to vector store.\n"
     ]
    }
   ],
   "source": [
    "# Add Documents to Vector Store\n",
    "docs = [\n",
    "    Document(\n",
    "        page_content=\"The quick brown fox jumps over the lazy dog.\",\n",
    "        metadata={\"id\": 1, \"topic\": \"animals\"},\n",
    "    ),\n",
    "    Document(\n",
    "        page_content=\"Artificial intelligence is transforming the world.\",\n",
    "        metadata={\"id\": 2, \"topic\": \"technology\"},\n",
    "    ),\n",
    "    Document(\n",
    "        page_content=\"Healthy eating is important for a balanced lifestyle.\",\n",
    "        metadata={\"id\": 3, \"topic\": \"health\"},\n",
    "    ),\n",
    "]\n",
    "print(\"Documents defined for addition to vector store.\")"
   ]
  },
  {
   "cell_type": "code",
   "execution_count": 21,
   "metadata": {},
   "outputs": [
    {
     "name": "stdout",
     "output_type": "stream",
     "text": [
      "Documents added successfully to vector store.\n"
     ]
    }
   ],
   "source": [
    "# Add the documents to the vector store\n",
    "vector_store.add_documents(docs, ids=[doc.metadata[\"id\"] for doc in docs])\n",
    "print(\"Documents added successfully to vector store.\")\n"
   ]
  },
  {
   "cell_type": "code",
   "execution_count": 24,
   "metadata": {},
   "outputs": [
    {
     "name": "stdout",
     "output_type": "stream",
     "text": [
      "Query embedding generated.\n"
     ]
    }
   ],
   "source": [
    "# Query the Vector Store\n",
    "query_text = \"Tell me about AI.\"\n",
    "query_embedding = embeddings.embed_query(query_text)\n",
    "print(\"Query embedding generated.\")"
   ]
  },
  {
   "cell_type": "code",
   "execution_count": 30,
   "metadata": {},
   "outputs": [
    {
     "name": "stdout",
     "output_type": "stream",
     "text": [
      "\n",
      "--- Query Results ---\n",
      "Similarity search complete.\n",
      "Artificial intelligence is transforming the world.\n"
     ]
    }
   ],
   "source": [
    "results = vector_store.similarity_search_with_score(query=query_text, k=3)\n",
    "print(\"\\n--- Query Results ---\")\n",
    "results = results[0][0].page_content\n",
    "print(\"Similarity search complete.\")\n",
    "print(results)\n"
   ]
  },
  {
   "cell_type": "code",
   "execution_count": 36,
   "metadata": {},
   "outputs": [
    {
     "name": "stdout",
     "output_type": "stream",
     "text": [
      "Retriever created from vector store.\n"
     ]
    }
   ],
   "source": [
    "# Transform vector store into a retriever\n",
    "retriever = vector_store.as_retriever(search_type=\"mmr\", search_kwargs={\"k\": 1})\n",
    "print(\"Retriever created from vector store.\")\n",
    "\n"
   ]
  },
  {
   "cell_type": "code",
   "execution_count": 37,
   "metadata": {},
   "outputs": [
    {
     "name": "stdout",
     "output_type": "stream",
     "text": [
      "Retriever invoked for query.\n"
     ]
    }
   ],
   "source": [
    "retriever_results = retriever.invoke(input=query_text)\n",
    "print(\"Retriever invoked for query.\")"
   ]
  },
  {
   "cell_type": "code",
   "execution_count": 38,
   "metadata": {},
   "outputs": [
    {
     "name": "stdout",
     "output_type": "stream",
     "text": [
      "\n",
      "--- Retriever Results ---\n",
      "* Artificial intelligence is transforming the world. [{'id': 2, 'topic': 'technology'}]\n",
      "Notebook execution complete.\n"
     ]
    }
   ],
   "source": [
    "print(\"\\n--- Retriever Results ---\")\n",
    "for doc in retriever_results:\n",
    "    print(f\"* {doc.page_content} [{doc.metadata}]\")\n",
    "print(\"Notebook execution complete.\")"
   ]
  }
 ],
 "metadata": {
  "kernelspec": {
   "display_name": "Python 3",
   "language": "python",
   "name": "python3"
  },
  "language_info": {
   "codemirror_mode": {
    "name": "ipython",
    "version": 3
   },
   "file_extension": ".py",
   "mimetype": "text/x-python",
   "name": "python",
   "nbconvert_exporter": "python",
   "pygments_lexer": "ipython3",
   "version": "3.12.5"
  }
 },
 "nbformat": 4,
 "nbformat_minor": 2
}
